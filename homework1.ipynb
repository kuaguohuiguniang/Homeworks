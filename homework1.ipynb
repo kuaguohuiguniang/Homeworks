{
 "cells": [
  {
   "cell_type": "markdown",
   "metadata": {},
   "source": [
    "# Homework Assignment 1: Basic Python\n",
    "\n",
    "In this homework, we will review basic properties of python, specifically loops, conditionals, functions, and basic data structures.\n",
    "\n",
    "Homework Guidelines:\n",
    "\n",
    "1) Document your code! Only part of your score on the homework will be if you get the \"right\" answer. In order for us to understand what you've written, you need to have clearly written code. Documenting your code with comments (# sign) and spacing out your code (but not too much) makes it easier to read. You should also make use of the markdown feature of ipython notebooks for longer explanations or to imbed pictures/formulas. \n",
    "\n",
    "2) You may google around for tools for solving the homework problems (StackExchange will often pop up!) but DO NOT google the exact problem statement or copy blocks of code from elsewhere.\n",
    "\n",
    "3) You can work in small groups to complete assignments and share code within the small group. Please specify who you worked with if your submitted solutions are similar/identical.\n",
    "\n",
    "4) Various python packages have built in routines for common programming tasks. If you want to use an external (i.e. import X) package which isn't imported in the problem statement please ask the instructor first.\n",
    "\n",
    "5) Some problem statements might be vague or unspecific (like \"Explore the relationship between X and Y\"), just like real research questions! When in doubt it would be useful to provide plots and your observations."
   ]
  },
  {
   "cell_type": "markdown",
   "metadata": {},
   "source": [
    "# Problem 0: Precourse Survey (0 points)\n",
    "\n",
    "If you have not already done so, please complete the pre-course survey availabe here:\n",
    "    https://forms.gle/n7FEdGT8tW9JNhog6"
   ]
  },
  {
   "cell_type": "markdown",
   "metadata": {},
   "source": [
    "# Problem 1: Using git (5 points)\n",
    "\n",
    "Over the course of this homework assignment, make at least 4 commits with informative commit messages. Remember that we can see the messages!"
   ]
  },
  {
   "cell_type": "markdown",
   "metadata": {},
   "source": [
    "# Problem 2: Largest Prime Factor (15 points)\n",
    "\n",
    "The prime factors of a number are the list of prime numbers who's product is equal to that number. I.e. 728 -> 2 2 2 7 13.\n",
    "\n",
    "a) Write a function which lists the prime factors of a number.\n",
    "\n",
    "b) What is the largest prime factor of 10,030,508,582,493?"
   ]
  },
  {
   "cell_type": "code",
   "execution_count": 6,
   "metadata": {
    "scrolled": true
   },
   "outputs": [
    {
     "name": "stdout",
     "output_type": "stream",
     "text": [
      "2\n",
      "2\n",
      "2\n",
      "7\n",
      "13\n"
     ]
    },
    {
     "data": {
      "text/plain": [
       "13"
      ]
     },
     "execution_count": 6,
     "metadata": {},
     "output_type": "execute_result"
    }
   ],
   "source": [
    "def PrimeFactor(n):\n",
    "    a = 2\n",
    "    while True:\n",
    "        b = n % a\n",
    "        if b == 0:\n",
    "            if n == a:\n",
    "                print (a)\n",
    "                break\n",
    "            else:\n",
    "                print (a)\n",
    "                n = n/a\n",
    "        else:\n",
    "            a = a + 1\n",
    "            continue\n",
    "    return a;\n",
    "PrimeFactor(728)"
   ]
  },
  {
   "cell_type": "code",
   "execution_count": 9,
   "metadata": {},
   "outputs": [
    {
     "name": "stdout",
     "output_type": "stream",
     "text": [
      "3\n",
      "7\n",
      "7789\n",
      "7789\n",
      "7873\n",
      "7873 is the largest prime factor of 10030508582493\n"
     ]
    }
   ],
   "source": [
    "## solution: 3*7*7789*7789*7873\n",
    "n = 10030508582493\n",
    "a = PrimeFactor(n)\n",
    "print (a, \"is the largest prime factor of\", n)"
   ]
  },
  {
   "cell_type": "markdown",
   "metadata": {},
   "source": [
    "# Problem 3: Division of Factorial Recursive Calculator (15 points)\n",
    "\n",
    "A common mathematical calculation that emerges in the field of combinatorics is the ratio of a two factorials, i.e.\n",
    "$$ \\frac{a!}{b!} = \\frac{a!}{(a-n)!}$$.\n",
    "\n",
    "a) Write a recursive program which will calculate this ratio for a given positive integer $a$ and $n$ (where $n<a$). Remember that a recursive function must call itself if a condition isn't met.\n",
    "\n",
    "b) What is the value for $a=10000$ and $n=13$?\n",
    "\n",
    "c) What is the value for $a=89$ and $n=40$?"
   ]
  },
  {
   "cell_type": "code",
   "execution_count": 5,
   "metadata": {},
   "outputs": [
    {
     "name": "stdout",
     "output_type": "stream",
     "text": [
      "9909372190562807384274120359321873533622315763379200\n",
      "14941509862441853794757331716875444946446260363146661800831877120000000000\n"
     ]
    }
   ],
   "source": [
    "#please estimate the ratio and compare it with 171!, if it is larger than or equal to 171!, then this function may not work.\n",
    "def ratio_factorial(a,n):\n",
    "    if a > n:\n",
    "        b = 1\n",
    "        for i in range(a - n,a):\n",
    "            b = b * i\n",
    "        print (b)\n",
    "    else:\n",
    "        print (\"please ensure the first input value a is lager than the second one n\")\n",
    "    return\n",
    "ratio_factorial(10000, 13)\n",
    "ratio_factorial(89, 40)"
   ]
  },
  {
   "cell_type": "markdown",
   "metadata": {},
   "source": [
    "# Problem 4: Largest Palindrome (15 points)\n",
    "\n",
    "\n",
    "A palindrome remains identical when its characters are reversed order. For example, 101 is a palindrome, as is 9339, and 1029201, and 165090561. All of these numbers, when read in reversed order, remain unchanged. In this problem, we will search for the largest palindrome that is also a product of two numbers. For example, the largest palindrome made from the product of two 2-digit numbers is 9009 = 91 × 99.\n",
    "\n",
    "a) What is the largest palidrome that comes from the product of three 2-digit numbers?\n",
    "\n",
    "b) What is the largest palidrome that comes from the product of two 3-digit numbers?"
   ]
  },
  {
   "cell_type": "code",
   "execution_count": 3,
   "metadata": {
    "scrolled": false
   },
   "outputs": [
    {
     "name": "stdout",
     "output_type": "stream",
     "text": [
      "99 98 26\n",
      "98\n",
      "[252252, 686686]\n",
      "686686\n"
     ]
    }
   ],
   "source": [
    "def check_paildrome(y):\n",
    "    y_str = str(y)\n",
    "    if len(y_str)%2 == 0:\n",
    "        ran = len(y_str)/2\n",
    "    else:\n",
    "        ran = (len(y_str)-1)/2\n",
    "    ran = int(ran)\n",
    "    for i in range(0,ran):\n",
    "        if y_str[i] == y_str[-(i+1)]:\n",
    "            pass\n",
    "        else:\n",
    "            return False\n",
    "    return True\n",
    "    \n",
    "def largest_paildrome(x): #this function is used to find the largest paildrome that comes from the product of 2 x-digit num\n",
    "    a = 10**x - 1\n",
    "    b = 10**x - 1\n",
    "    c = 10**x - 1\n",
    "    list_paildrome = []\n",
    "    while check_paildrome(a*b*c) == False:\n",
    "        if c > 10**(x-1):\n",
    "            c -= 1\n",
    "        elif b > 10**(x-1):\n",
    "            b -= 1\n",
    "            c = b\n",
    "        elif a > 10**(x-1):\n",
    "            a -= 1\n",
    "            b = a\n",
    "            c = a\n",
    "        else:\n",
    "            print (\"there is no such a paildrom comes form the product of\", n, x, \"-digit numbers\")\n",
    "            break\n",
    "    print(a,b,c)\n",
    "    list_paildrome.append(a*b*c)\n",
    "    \n",
    "    r = b\n",
    "    print(r)\n",
    "    while a > r:\n",
    "        a -= 1\n",
    "        while check_paildrome(a*b*c) == False:\n",
    "            if c > 10**(x-1):\n",
    "                c -= 1\n",
    "            elif b > 10**(x-1):\n",
    "                b -= 1\n",
    "                c = b\n",
    "            elif a > 10**(x-1):\n",
    "                a -= 1\n",
    "                b = a\n",
    "                c = a\n",
    "            else:\n",
    "                break\n",
    "        list_paildrome.append(a*b*c)\n",
    "            \n",
    "    max_paildrome = 0   \n",
    "    for i in list_paildrome:\n",
    "        if i > max_paildrome:\n",
    "            max_paildrome = i\n",
    "    print(list_paildrome)\n",
    "    return max_paildrome\n",
    "\n",
    "print(largest_paildrome(2))"
   ]
  },
  {
   "cell_type": "code",
   "execution_count": 4,
   "metadata": {},
   "outputs": [
    {
     "name": "stdout",
     "output_type": "stream",
     "text": [
      "995 583\n",
      "583\n",
      "[580085, 906609, 119911, 282282, 853358, 650056, 408804, 525525, 299992, 469964, 886688, 828828, 487784, 180081, 348843, 770077, 653356, 648846, 577775, 723327, 272272, 292292, 840048, 238832, 227722, 595595, 564465, 470074, 693396, 672276, 579975, 444444, 476674, 393393, 513315, 412214, 302203, 551155, 819918, 657756, 507705, 407704, 168861, 414414, 561165, 461164, 654456, 536635, 428824, 272272, 252252, 106601, 618816, 280082, 93839, 663366, 652256, 749947, 89198, 198891, 696696, 675576, 345543, 616616, 297792, 259952, 95259, 508805, 698896, 678876, 595595, 603306, 579975, 462264, 371173, 89598, 666666, 611116, 84048, 654456, 366663, 232232, 639936, 434434, 619916, 378873, 612216, 565565, 321123, 276672, 266662, 84348, 239932, 555555, 571175, 84148, 489984, 82728, 545545, 477774, 359953, 519915, 506605, 464464, 297792, 535535, 462264, 85158, 270072, 424424, 171171, 154451, 89298, 525525, 79897, 168861, 464464, 99599, 89298, 515515, 80908, 219912, 133331, 88288, 82128, 489984, 83538, 78987, 82128, 290092, 279972, 73937, 424424, 401104, 86868, 74447, 452254, 445544, 81618, 432234, 83538, 68186, 137731, 90009, 273372, 408804, 76167, 374473, 78287, 81018, 84348, 343343, 258852, 215512, 87078, 375573, 67176, 320023, 231132, 96869, 88088, 256652, 89498, 63036, 63336, 65556, 88788, 89698, 85058, 99699, 84348, 234432, 75057, 83638, 65856, 67976, 82928, 294492]\n",
      "906609\n"
     ]
    }
   ],
   "source": [
    "def check_paildrome(y):\n",
    "    y_str = str(y)\n",
    "    if len(y_str)%2 == 0:\n",
    "        ran = len(y_str)/2\n",
    "    else:\n",
    "        ran = (len(y_str)-1)/2\n",
    "    ran = int(ran)\n",
    "    for i in range(0,ran):\n",
    "        if y_str[i] == y_str[-(i+1)]:\n",
    "            pass\n",
    "        else:\n",
    "            return False\n",
    "    return True\n",
    "    \n",
    "def largest_paildrome(x): #this function is used to find the largest paildrome that comes from the product of 2 x-digit num\n",
    "    a = 10**x - 1\n",
    "    b = 10**x - 1\n",
    "    list_paildrome = []\n",
    "    while check_paildrome(a*b) == False:\n",
    "        if b > 10**(x-1):\n",
    "            b -= 1\n",
    "        elif a > 10**(x-1):\n",
    "            a -= 1\n",
    "            b = a\n",
    "        else:\n",
    "            print (\"there is no such a paildrom comes form the product of\", n, x, \"-digit numbers\")\n",
    "            break\n",
    "    print(a,b)\n",
    "    list_paildrome.append(a*b)\n",
    "    \n",
    "    r = b\n",
    "    print(r)\n",
    "    while a > r:\n",
    "        a -= 1\n",
    "        while check_paildrome(a*b) == False:\n",
    "            if b > 10**(x-1):\n",
    "                b -= 1\n",
    "            elif a > 10**(x-1):\n",
    "                a -= 1\n",
    "                b = a\n",
    "            else:\n",
    "                break\n",
    "        list_paildrome.append(a*b)\n",
    "            \n",
    "    max_paildrome = 0   \n",
    "    for i in list_paildrome:\n",
    "        if i > max_paildrome:\n",
    "            max_paildrome = i\n",
    "    print(list_paildrome)\n",
    "    return max_paildrome\n",
    "\n",
    "print(largest_paildrome(3))"
   ]
  }
 ],
 "metadata": {
  "kernelspec": {
   "display_name": "Python 3",
   "language": "python",
   "name": "python3"
  },
  "language_info": {
   "codemirror_mode": {
    "name": "ipython",
    "version": 3
   },
   "file_extension": ".py",
   "mimetype": "text/x-python",
   "name": "python",
   "nbconvert_exporter": "python",
   "pygments_lexer": "ipython3",
   "version": "3.7.3"
  }
 },
 "nbformat": 4,
 "nbformat_minor": 2
}
